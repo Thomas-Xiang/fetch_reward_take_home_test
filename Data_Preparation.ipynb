{
  "cells": [
    {
      "cell_type": "code",
      "execution_count": 1,
      "id": "5d60862a",
      "metadata": {
        "id": "5d60862a"
      },
      "outputs": [],
      "source": [
        "import pandas as pd\n",
        "import json\n",
        "import gzip\n",
        "import glob\n",
        "import numpy as np\n",
        "import matplotlib.pyplot as plt\n",
        "import seaborn as sns"
      ]
    },
    {
      "cell_type": "markdown",
      "id": "3241f90e",
      "metadata": {
        "id": "3241f90e"
      },
      "source": [
        "### Brands Preparation"
      ]
    },
    {
      "cell_type": "code",
      "execution_count": 2,
      "id": "d3c39483",
      "metadata": {
        "id": "d3c39483"
      },
      "outputs": [],
      "source": [
        "brands = pd.read_csv(\"brands.csv\")"
      ]
    },
    {
      "cell_type": "code",
      "execution_count": 3,
      "id": "aa990890",
      "metadata": {
        "id": "aa990890"
      },
      "outputs": [],
      "source": [
        "# eliminate the composite values to obey the NF1, generate a new table called brand_relationship\n",
        "related_brands = brands[~brands[\"RELATED_BRAND_IDS\"].isna()].loc[:, [\"ID\", \"RELATED_BRAND_IDS\"]]\n",
        "\n",
        "idx = 0\n",
        "brands_relationship = pd.DataFrame(columns = [\"brand1_id\", \"brand2_id\"])\n",
        "for i in range(0, len(related_brands)):\n",
        "    brand_id = related_brands.iat[i, 0]\n",
        "    related_brand_ids = related_brands.iloc[i, 1].split(\" : \")\n",
        "    for j in related_brand_ids:\n",
        "        brands_relationship.loc[idx] = [brand_id, j]\n",
        "        idx += 1;"
      ]
    },
    {
      "cell_type": "code",
      "execution_count": 4,
      "id": "8daca4e9",
      "metadata": {
        "id": "8daca4e9"
      },
      "outputs": [],
      "source": [
        "# eliminate the attributes depend on the primary key and other attributes to obey NF3, generate a new table called categories\n",
        "categories_elements = brands[\"CATEGORY\"].unique().reshape(-1, 1)\n",
        "categories_code_elements = brands[\"CATEGORY_CODE\"].unique().reshape(-1, 1)\n",
        "data = np.concatenate((categories_elements, categories_code_elements), axis = 1)\n",
        "categories = pd.DataFrame(data, columns =[\"CATEGORY\", \"RELATED_BRAND_IDS\"])"
      ]
    },
    {
      "cell_type": "code",
      "execution_count": 5,
      "id": "c2146fc6",
      "metadata": {
        "id": "c2146fc6"
      },
      "outputs": [],
      "source": [
        "brands = brands.drop(columns=[\"CATEGORY\", \"RELATED_BRAND_IDS\"])"
      ]
    },
    {
      "cell_type": "code",
      "execution_count": 6,
      "id": "a0984a9f",
      "metadata": {
        "id": "a0984a9f"
      },
      "outputs": [],
      "source": [
        "# remove the duplicate rows\n",
        "brands = brands[~brands.duplicated()]"
      ]
    },
    {
      "cell_type": "markdown",
      "id": "97630e32",
      "metadata": {
        "id": "97630e32"
      },
      "source": [
        "### Receipts Preparation"
      ]
    },
    {
      "cell_type": "code",
      "execution_count": 7,
      "id": "589439c4",
      "metadata": {
        "id": "589439c4"
      },
      "outputs": [],
      "source": [
        "receipts = pd.read_csv(\"receipts.csv\")"
      ]
    },
    {
      "cell_type": "code",
      "execution_count": 8,
      "id": "QyfOP9b1-9Jv",
      "metadata": {
        "colab": {
          "base_uri": "https://localhost:8080/",
          "height": 403
        },
        "id": "QyfOP9b1-9Jv",
        "outputId": "b5f11a94-4fe4-409f-d90f-3a93d1ba7cd0"
      },
      "outputs": [
        {
          "data": {
            "text/html": [
              "\n",
              "  <div id=\"df-7b4552b1-ce9f-4602-8c7d-206893a0f539\">\n",
              "    <div class=\"colab-df-container\">\n",
              "      <div>\n",
              "<style scoped>\n",
              "    .dataframe tbody tr th:only-of-type {\n",
              "        vertical-align: middle;\n",
              "    }\n",
              "\n",
              "    .dataframe tbody tr th {\n",
              "        vertical-align: top;\n",
              "    }\n",
              "\n",
              "    .dataframe thead th {\n",
              "        text-align: right;\n",
              "    }\n",
              "</style>\n",
              "<table border=\"1\" class=\"dataframe\">\n",
              "  <thead>\n",
              "    <tr style=\"text-align: right;\">\n",
              "      <th></th>\n",
              "      <th>ID</th>\n",
              "      <th>STORE_NAME</th>\n",
              "      <th>PURCHASE_DATE</th>\n",
              "      <th>PURCHASE_TIME</th>\n",
              "      <th>DATE_SCANNED</th>\n",
              "      <th>TOTAL_SPENT</th>\n",
              "      <th>REWARDS_RECEIPT_STATUS</th>\n",
              "      <th>USER_ID</th>\n",
              "      <th>USER_VIEWED</th>\n",
              "      <th>PURCHASED_ITEM_COUNT</th>\n",
              "      <th>...</th>\n",
              "      <th>PENDING_DATE</th>\n",
              "      <th>MODIFY_DATE</th>\n",
              "      <th>FLAGGED_DATE</th>\n",
              "      <th>PROCESSED_DATE</th>\n",
              "      <th>FINISHED_DATE</th>\n",
              "      <th>REJECTED_DATE</th>\n",
              "      <th>NEEDS_FETCH_REVIEW</th>\n",
              "      <th>DIGITAL_RECEIPT</th>\n",
              "      <th>DELETED</th>\n",
              "      <th>NON_POINT_EARNING_RECEIPT</th>\n",
              "    </tr>\n",
              "  </thead>\n",
              "  <tbody>\n",
              "    <tr>\n",
              "      <th>0</th>\n",
              "      <td>62868f660a72546bef0b2dd0</td>\n",
              "      <td>TOWN OF ROCKY MOUNT</td>\n",
              "      <td>2022-05-19T00:00:00Z</td>\n",
              "      <td>2:05 PM</td>\n",
              "      <td>2022-05-19T18:41:42.53Z</td>\n",
              "      <td>859.87</td>\n",
              "      <td>FINISHED</td>\n",
              "      <td>61375682c625197c5db73602</td>\n",
              "      <td>True</td>\n",
              "      <td>1.0</td>\n",
              "      <td>...</td>\n",
              "      <td>2022-05-19T18:57:57.228Z</td>\n",
              "      <td>2022-05-22T11:20:57.998Z</td>\n",
              "      <td>2022-05-19T18:42:57.042Z</td>\n",
              "      <td>NaN</td>\n",
              "      <td>2022-05-19T18:57:57.336Z</td>\n",
              "      <td>NaN</td>\n",
              "      <td>NaN</td>\n",
              "      <td>False</td>\n",
              "      <td>NaN</td>\n",
              "      <td>True</td>\n",
              "    </tr>\n",
              "    <tr>\n",
              "      <th>1</th>\n",
              "      <td>6096b7370a7216d316001149</td>\n",
              "      <td>NaN</td>\n",
              "      <td>NaN</td>\n",
              "      <td>NaN</td>\n",
              "      <td>2021-05-08T16:07:19.03Z</td>\n",
              "      <td>NaN</td>\n",
              "      <td>SUBMITTED</td>\n",
              "      <td>60047e8a2d7db612a69d2e18</td>\n",
              "      <td>True</td>\n",
              "      <td>NaN</td>\n",
              "      <td>...</td>\n",
              "      <td>NaN</td>\n",
              "      <td>2021-05-08T16:07:19.03Z</td>\n",
              "      <td>NaN</td>\n",
              "      <td>NaN</td>\n",
              "      <td>NaN</td>\n",
              "      <td>NaN</td>\n",
              "      <td>NaN</td>\n",
              "      <td>False</td>\n",
              "      <td>NaN</td>\n",
              "      <td>NaN</td>\n",
              "    </tr>\n",
              "    <tr>\n",
              "      <th>2</th>\n",
              "      <td>6269a4ea0a7241077408b6e1</td>\n",
              "      <td>FAMILY DOLLAR</td>\n",
              "      <td>2022-04-27T00:00:00Z</td>\n",
              "      <td>4:15 PM</td>\n",
              "      <td>2022-04-27T20:17:46.09Z</td>\n",
              "      <td>11.00</td>\n",
              "      <td>FINISHED</td>\n",
              "      <td>61578e96c2fb9321213720fc</td>\n",
              "      <td>True</td>\n",
              "      <td>2.0</td>\n",
              "      <td>...</td>\n",
              "      <td>2022-04-27T20:17:54.214Z</td>\n",
              "      <td>2022-04-27T20:17:55.521Z</td>\n",
              "      <td>NaN</td>\n",
              "      <td>NaN</td>\n",
              "      <td>2022-04-27T20:17:54.394Z</td>\n",
              "      <td>NaN</td>\n",
              "      <td>NaN</td>\n",
              "      <td>False</td>\n",
              "      <td>NaN</td>\n",
              "      <td>False</td>\n",
              "    </tr>\n",
              "    <tr>\n",
              "      <th>3</th>\n",
              "      <td>625b25e70a723eb9730d2c9c</td>\n",
              "      <td>PUBLIX</td>\n",
              "      <td>2022-04-15T00:00:00Z</td>\n",
              "      <td>4:45 PM</td>\n",
              "      <td>2022-04-16T20:24:07.259Z</td>\n",
              "      <td>10.67</td>\n",
              "      <td>FINISHED</td>\n",
              "      <td>6048de2ec9106b12d2b1ff61</td>\n",
              "      <td>True</td>\n",
              "      <td>4.0</td>\n",
              "      <td>...</td>\n",
              "      <td>2022-04-16T20:24:23.399Z</td>\n",
              "      <td>2022-04-16T20:24:24.064Z</td>\n",
              "      <td>NaN</td>\n",
              "      <td>NaN</td>\n",
              "      <td>2022-04-16T20:24:23.598Z</td>\n",
              "      <td>NaN</td>\n",
              "      <td>NaN</td>\n",
              "      <td>False</td>\n",
              "      <td>NaN</td>\n",
              "      <td>False</td>\n",
              "    </tr>\n",
              "    <tr>\n",
              "      <th>4</th>\n",
              "      <td>60e3bd7e0a7215bd550fb8cc</td>\n",
              "      <td>COSTCO</td>\n",
              "      <td>2021-06-30T00:00:00Z</td>\n",
              "      <td>1:16 PM</td>\n",
              "      <td>2021-07-06T02:18:38.495Z</td>\n",
              "      <td>61.90</td>\n",
              "      <td>FINISHED</td>\n",
              "      <td>6048de2ec9106b12d2b1ff61</td>\n",
              "      <td>True</td>\n",
              "      <td>10.0</td>\n",
              "      <td>...</td>\n",
              "      <td>2021-07-06T02:18:49.55Z</td>\n",
              "      <td>2021-07-06T02:18:51.906Z</td>\n",
              "      <td>NaN</td>\n",
              "      <td>NaN</td>\n",
              "      <td>2021-07-06T02:18:50.283Z</td>\n",
              "      <td>NaN</td>\n",
              "      <td>NaN</td>\n",
              "      <td>False</td>\n",
              "      <td>NaN</td>\n",
              "      <td>False</td>\n",
              "    </tr>\n",
              "  </tbody>\n",
              "</table>\n",
              "<p>5 rows × 21 columns</p>\n",
              "</div>\n",
              "      <button class=\"colab-df-convert\" onclick=\"convertToInteractive('df-7b4552b1-ce9f-4602-8c7d-206893a0f539')\"\n",
              "              title=\"Convert this dataframe to an interactive table.\"\n",
              "              style=\"display:none;\">\n",
              "        \n",
              "  <svg xmlns=\"http://www.w3.org/2000/svg\" height=\"24px\"viewBox=\"0 0 24 24\"\n",
              "       width=\"24px\">\n",
              "    <path d=\"M0 0h24v24H0V0z\" fill=\"none\"/>\n",
              "    <path d=\"M18.56 5.44l.94 2.06.94-2.06 2.06-.94-2.06-.94-.94-2.06-.94 2.06-2.06.94zm-11 1L8.5 8.5l.94-2.06 2.06-.94-2.06-.94L8.5 2.5l-.94 2.06-2.06.94zm10 10l.94 2.06.94-2.06 2.06-.94-2.06-.94-.94-2.06-.94 2.06-2.06.94z\"/><path d=\"M17.41 7.96l-1.37-1.37c-.4-.4-.92-.59-1.43-.59-.52 0-1.04.2-1.43.59L10.3 9.45l-7.72 7.72c-.78.78-.78 2.05 0 2.83L4 21.41c.39.39.9.59 1.41.59.51 0 1.02-.2 1.41-.59l7.78-7.78 2.81-2.81c.8-.78.8-2.07 0-2.86zM5.41 20L4 18.59l7.72-7.72 1.47 1.35L5.41 20z\"/>\n",
              "  </svg>\n",
              "      </button>\n",
              "      \n",
              "  <style>\n",
              "    .colab-df-container {\n",
              "      display:flex;\n",
              "      flex-wrap:wrap;\n",
              "      gap: 12px;\n",
              "    }\n",
              "\n",
              "    .colab-df-convert {\n",
              "      background-color: #E8F0FE;\n",
              "      border: none;\n",
              "      border-radius: 50%;\n",
              "      cursor: pointer;\n",
              "      display: none;\n",
              "      fill: #1967D2;\n",
              "      height: 32px;\n",
              "      padding: 0 0 0 0;\n",
              "      width: 32px;\n",
              "    }\n",
              "\n",
              "    .colab-df-convert:hover {\n",
              "      background-color: #E2EBFA;\n",
              "      box-shadow: 0px 1px 2px rgba(60, 64, 67, 0.3), 0px 1px 3px 1px rgba(60, 64, 67, 0.15);\n",
              "      fill: #174EA6;\n",
              "    }\n",
              "\n",
              "    [theme=dark] .colab-df-convert {\n",
              "      background-color: #3B4455;\n",
              "      fill: #D2E3FC;\n",
              "    }\n",
              "\n",
              "    [theme=dark] .colab-df-convert:hover {\n",
              "      background-color: #434B5C;\n",
              "      box-shadow: 0px 1px 3px 1px rgba(0, 0, 0, 0.15);\n",
              "      filter: drop-shadow(0px 1px 2px rgba(0, 0, 0, 0.3));\n",
              "      fill: #FFFFFF;\n",
              "    }\n",
              "  </style>\n",
              "\n",
              "      <script>\n",
              "        const buttonEl =\n",
              "          document.querySelector('#df-7b4552b1-ce9f-4602-8c7d-206893a0f539 button.colab-df-convert');\n",
              "        buttonEl.style.display =\n",
              "          google.colab.kernel.accessAllowed ? 'block' : 'none';\n",
              "\n",
              "        async function convertToInteractive(key) {\n",
              "          const element = document.querySelector('#df-7b4552b1-ce9f-4602-8c7d-206893a0f539');\n",
              "          const dataTable =\n",
              "            await google.colab.kernel.invokeFunction('convertToInteractive',\n",
              "                                                     [key], {});\n",
              "          if (!dataTable) return;\n",
              "\n",
              "          const docLinkHtml = 'Like what you see? Visit the ' +\n",
              "            '<a target=\"_blank\" href=https://colab.research.google.com/notebooks/data_table.ipynb>data table notebook</a>'\n",
              "            + ' to learn more about interactive tables.';\n",
              "          element.innerHTML = '';\n",
              "          dataTable['output_type'] = 'display_data';\n",
              "          await google.colab.output.renderOutput(dataTable, element);\n",
              "          const docLink = document.createElement('div');\n",
              "          docLink.innerHTML = docLinkHtml;\n",
              "          element.appendChild(docLink);\n",
              "        }\n",
              "      </script>\n",
              "    </div>\n",
              "  </div>\n",
              "  "
            ],
            "text/plain": [
              "                         ID           STORE_NAME         PURCHASE_DATE  \\\n",
              "0  62868f660a72546bef0b2dd0  TOWN OF ROCKY MOUNT  2022-05-19T00:00:00Z   \n",
              "1  6096b7370a7216d316001149                  NaN                   NaN   \n",
              "2  6269a4ea0a7241077408b6e1        FAMILY DOLLAR  2022-04-27T00:00:00Z   \n",
              "3  625b25e70a723eb9730d2c9c               PUBLIX  2022-04-15T00:00:00Z   \n",
              "4  60e3bd7e0a7215bd550fb8cc               COSTCO  2021-06-30T00:00:00Z   \n",
              "\n",
              "  PURCHASE_TIME              DATE_SCANNED  TOTAL_SPENT REWARDS_RECEIPT_STATUS  \\\n",
              "0       2:05 PM   2022-05-19T18:41:42.53Z       859.87               FINISHED   \n",
              "1           NaN   2021-05-08T16:07:19.03Z          NaN              SUBMITTED   \n",
              "2       4:15 PM   2022-04-27T20:17:46.09Z        11.00               FINISHED   \n",
              "3       4:45 PM  2022-04-16T20:24:07.259Z        10.67               FINISHED   \n",
              "4       1:16 PM  2021-07-06T02:18:38.495Z        61.90               FINISHED   \n",
              "\n",
              "                    USER_ID USER_VIEWED  PURCHASED_ITEM_COUNT  ...  \\\n",
              "0  61375682c625197c5db73602        True                   1.0  ...   \n",
              "1  60047e8a2d7db612a69d2e18        True                   NaN  ...   \n",
              "2  61578e96c2fb9321213720fc        True                   2.0  ...   \n",
              "3  6048de2ec9106b12d2b1ff61        True                   4.0  ...   \n",
              "4  6048de2ec9106b12d2b1ff61        True                  10.0  ...   \n",
              "\n",
              "               PENDING_DATE               MODIFY_DATE  \\\n",
              "0  2022-05-19T18:57:57.228Z  2022-05-22T11:20:57.998Z   \n",
              "1                       NaN   2021-05-08T16:07:19.03Z   \n",
              "2  2022-04-27T20:17:54.214Z  2022-04-27T20:17:55.521Z   \n",
              "3  2022-04-16T20:24:23.399Z  2022-04-16T20:24:24.064Z   \n",
              "4   2021-07-06T02:18:49.55Z  2021-07-06T02:18:51.906Z   \n",
              "\n",
              "               FLAGGED_DATE PROCESSED_DATE             FINISHED_DATE  \\\n",
              "0  2022-05-19T18:42:57.042Z            NaN  2022-05-19T18:57:57.336Z   \n",
              "1                       NaN            NaN                       NaN   \n",
              "2                       NaN            NaN  2022-04-27T20:17:54.394Z   \n",
              "3                       NaN            NaN  2022-04-16T20:24:23.598Z   \n",
              "4                       NaN            NaN  2021-07-06T02:18:50.283Z   \n",
              "\n",
              "  REJECTED_DATE NEEDS_FETCH_REVIEW DIGITAL_RECEIPT  DELETED  \\\n",
              "0           NaN                NaN           False      NaN   \n",
              "1           NaN                NaN           False      NaN   \n",
              "2           NaN                NaN           False      NaN   \n",
              "3           NaN                NaN           False      NaN   \n",
              "4           NaN                NaN           False      NaN   \n",
              "\n",
              "  NON_POINT_EARNING_RECEIPT  \n",
              "0                      True  \n",
              "1                       NaN  \n",
              "2                     False  \n",
              "3                     False  \n",
              "4                     False  \n",
              "\n",
              "[5 rows x 21 columns]"
            ]
          },
          "execution_count": 8,
          "metadata": {},
          "output_type": "execute_result"
        }
      ],
      "source": [
        "receipts.head()"
      ]
    },
    {
      "cell_type": "markdown",
      "id": "MacFA4FUPel7",
      "metadata": {
        "id": "MacFA4FUPel7"
      },
      "source": [
        "### Receipt Item Preparation"
      ]
    },
    {
      "cell_type": "code",
      "execution_count": 9,
      "id": "lU5PLb55-psW",
      "metadata": {
        "id": "lU5PLb55-psW"
      },
      "outputs": [],
      "source": [
        "receipt_items = pd.read_csv(\"receipt_items.csv\")"
      ]
    },
    {
      "cell_type": "code",
      "execution_count": 10,
      "id": "kFgoEYS6Y6Nl",
      "metadata": {
        "colab": {
          "base_uri": "https://localhost:8080/",
          "height": 337
        },
        "id": "kFgoEYS6Y6Nl",
        "outputId": "715b5142-3081-4228-fb26-d0d0e8c70077"
      },
      "outputs": [
        {
          "data": {
            "text/html": [
              "\n",
              "  <div id=\"df-c2e1e9ee-8112-4693-876d-170d700b37c1\">\n",
              "    <div class=\"colab-df-container\">\n",
              "      <div>\n",
              "<style scoped>\n",
              "    .dataframe tbody tr th:only-of-type {\n",
              "        vertical-align: middle;\n",
              "    }\n",
              "\n",
              "    .dataframe tbody tr th {\n",
              "        vertical-align: top;\n",
              "    }\n",
              "\n",
              "    .dataframe thead th {\n",
              "        text-align: right;\n",
              "    }\n",
              "</style>\n",
              "<table border=\"1\" class=\"dataframe\">\n",
              "  <thead>\n",
              "    <tr style=\"text-align: right;\">\n",
              "      <th></th>\n",
              "      <th>REWARDS_RECEIPT_ID</th>\n",
              "      <th>ITEM_INDEX</th>\n",
              "      <th>REWARDS_RECEIPT_ITEM_ID</th>\n",
              "      <th>DESCRIPTION</th>\n",
              "      <th>BARCODE</th>\n",
              "      <th>BRAND_CODE</th>\n",
              "      <th>QUANTITY_PURCHASED</th>\n",
              "      <th>TOTAL_FINAL_PRICE</th>\n",
              "      <th>POINTS_EARNED</th>\n",
              "      <th>REWARDS_GROUP</th>\n",
              "      <th>ORIGINAL_RECEIPT_ITEM_TEXT</th>\n",
              "      <th>MODIFY_DATE</th>\n",
              "    </tr>\n",
              "  </thead>\n",
              "  <tbody>\n",
              "    <tr>\n",
              "      <th>0</th>\n",
              "      <td>60bb28c10a720d557b128262</td>\n",
              "      <td>0.0</td>\n",
              "      <td>1efd6d7c75ecbae32214acb6cda41d12</td>\n",
              "      <td>RLGULAR SALE</td>\n",
              "      <td>NaN</td>\n",
              "      <td>NaN</td>\n",
              "      <td>1.0</td>\n",
              "      <td>9.99</td>\n",
              "      <td>NaN</td>\n",
              "      <td>NaN</td>\n",
              "      <td>RLGULAR SALE</td>\n",
              "      <td>2021-06-05T07:33:36.91Z</td>\n",
              "    </tr>\n",
              "    <tr>\n",
              "      <th>1</th>\n",
              "      <td>60bb28c10a720d557b128262</td>\n",
              "      <td>1.0</td>\n",
              "      <td>79482a8fa3bd0eef3d626f1c862042e8</td>\n",
              "      <td>82 GOURMET HOUSEW</td>\n",
              "      <td>000240292012</td>\n",
              "      <td>NaN</td>\n",
              "      <td>1.0</td>\n",
              "      <td>4.99</td>\n",
              "      <td>NaN</td>\n",
              "      <td>NaN</td>\n",
              "      <td>82 GOURMET HOUSEW</td>\n",
              "      <td>2021-06-05T07:33:36.91Z</td>\n",
              "    </tr>\n",
              "    <tr>\n",
              "      <th>2</th>\n",
              "      <td>627151230a724d730825106a</td>\n",
              "      <td>0.0</td>\n",
              "      <td>b26669cf4ce90cc9d7d3b0ab588cb04b</td>\n",
              "      <td>GOLDILOCKS NOPIA R BLAGK</td>\n",
              "      <td>NaN</td>\n",
              "      <td>NaN</td>\n",
              "      <td>1.0</td>\n",
              "      <td>4.75</td>\n",
              "      <td>NaN</td>\n",
              "      <td>NaN</td>\n",
              "      <td>GOLDILOCKS NOPIA R BLAGK</td>\n",
              "      <td>2022-05-03T15:58:41.769Z</td>\n",
              "    </tr>\n",
              "    <tr>\n",
              "      <th>3</th>\n",
              "      <td>627151230a724d730825106a</td>\n",
              "      <td>1.0</td>\n",
              "      <td>b4fafd04d8274a1e95b97155edaade2f</td>\n",
              "      <td>KURI-IRI DORAYAKI CAKE</td>\n",
              "      <td>NaN</td>\n",
              "      <td>NaN</td>\n",
              "      <td>1.0</td>\n",
              "      <td>5.99</td>\n",
              "      <td>NaN</td>\n",
              "      <td>NaN</td>\n",
              "      <td>KURI-IRI DORAYAKI CAKE</td>\n",
              "      <td>2022-05-03T15:58:41.769Z</td>\n",
              "    </tr>\n",
              "    <tr>\n",
              "      <th>4</th>\n",
              "      <td>627151230a724d730825106a</td>\n",
              "      <td>2.0</td>\n",
              "      <td>39694b0880b511e8a12bfb76cf2c20f3</td>\n",
              "      <td>YIZMANG FISH BALL</td>\n",
              "      <td>NaN</td>\n",
              "      <td>NaN</td>\n",
              "      <td>1.0</td>\n",
              "      <td>12.00</td>\n",
              "      <td>NaN</td>\n",
              "      <td>NaN</td>\n",
              "      <td>YIZMANG FISH BALL</td>\n",
              "      <td>2022-05-03T15:58:41.769Z</td>\n",
              "    </tr>\n",
              "  </tbody>\n",
              "</table>\n",
              "</div>\n",
              "      <button class=\"colab-df-convert\" onclick=\"convertToInteractive('df-c2e1e9ee-8112-4693-876d-170d700b37c1')\"\n",
              "              title=\"Convert this dataframe to an interactive table.\"\n",
              "              style=\"display:none;\">\n",
              "        \n",
              "  <svg xmlns=\"http://www.w3.org/2000/svg\" height=\"24px\"viewBox=\"0 0 24 24\"\n",
              "       width=\"24px\">\n",
              "    <path d=\"M0 0h24v24H0V0z\" fill=\"none\"/>\n",
              "    <path d=\"M18.56 5.44l.94 2.06.94-2.06 2.06-.94-2.06-.94-.94-2.06-.94 2.06-2.06.94zm-11 1L8.5 8.5l.94-2.06 2.06-.94-2.06-.94L8.5 2.5l-.94 2.06-2.06.94zm10 10l.94 2.06.94-2.06 2.06-.94-2.06-.94-.94-2.06-.94 2.06-2.06.94z\"/><path d=\"M17.41 7.96l-1.37-1.37c-.4-.4-.92-.59-1.43-.59-.52 0-1.04.2-1.43.59L10.3 9.45l-7.72 7.72c-.78.78-.78 2.05 0 2.83L4 21.41c.39.39.9.59 1.41.59.51 0 1.02-.2 1.41-.59l7.78-7.78 2.81-2.81c.8-.78.8-2.07 0-2.86zM5.41 20L4 18.59l7.72-7.72 1.47 1.35L5.41 20z\"/>\n",
              "  </svg>\n",
              "      </button>\n",
              "      \n",
              "  <style>\n",
              "    .colab-df-container {\n",
              "      display:flex;\n",
              "      flex-wrap:wrap;\n",
              "      gap: 12px;\n",
              "    }\n",
              "\n",
              "    .colab-df-convert {\n",
              "      background-color: #E8F0FE;\n",
              "      border: none;\n",
              "      border-radius: 50%;\n",
              "      cursor: pointer;\n",
              "      display: none;\n",
              "      fill: #1967D2;\n",
              "      height: 32px;\n",
              "      padding: 0 0 0 0;\n",
              "      width: 32px;\n",
              "    }\n",
              "\n",
              "    .colab-df-convert:hover {\n",
              "      background-color: #E2EBFA;\n",
              "      box-shadow: 0px 1px 2px rgba(60, 64, 67, 0.3), 0px 1px 3px 1px rgba(60, 64, 67, 0.15);\n",
              "      fill: #174EA6;\n",
              "    }\n",
              "\n",
              "    [theme=dark] .colab-df-convert {\n",
              "      background-color: #3B4455;\n",
              "      fill: #D2E3FC;\n",
              "    }\n",
              "\n",
              "    [theme=dark] .colab-df-convert:hover {\n",
              "      background-color: #434B5C;\n",
              "      box-shadow: 0px 1px 3px 1px rgba(0, 0, 0, 0.15);\n",
              "      filter: drop-shadow(0px 1px 2px rgba(0, 0, 0, 0.3));\n",
              "      fill: #FFFFFF;\n",
              "    }\n",
              "  </style>\n",
              "\n",
              "      <script>\n",
              "        const buttonEl =\n",
              "          document.querySelector('#df-c2e1e9ee-8112-4693-876d-170d700b37c1 button.colab-df-convert');\n",
              "        buttonEl.style.display =\n",
              "          google.colab.kernel.accessAllowed ? 'block' : 'none';\n",
              "\n",
              "        async function convertToInteractive(key) {\n",
              "          const element = document.querySelector('#df-c2e1e9ee-8112-4693-876d-170d700b37c1');\n",
              "          const dataTable =\n",
              "            await google.colab.kernel.invokeFunction('convertToInteractive',\n",
              "                                                     [key], {});\n",
              "          if (!dataTable) return;\n",
              "\n",
              "          const docLinkHtml = 'Like what you see? Visit the ' +\n",
              "            '<a target=\"_blank\" href=https://colab.research.google.com/notebooks/data_table.ipynb>data table notebook</a>'\n",
              "            + ' to learn more about interactive tables.';\n",
              "          element.innerHTML = '';\n",
              "          dataTable['output_type'] = 'display_data';\n",
              "          await google.colab.output.renderOutput(dataTable, element);\n",
              "          const docLink = document.createElement('div');\n",
              "          docLink.innerHTML = docLinkHtml;\n",
              "          element.appendChild(docLink);\n",
              "        }\n",
              "      </script>\n",
              "    </div>\n",
              "  </div>\n",
              "  "
            ],
            "text/plain": [
              "         REWARDS_RECEIPT_ID  ITEM_INDEX           REWARDS_RECEIPT_ITEM_ID  \\\n",
              "0  60bb28c10a720d557b128262         0.0  1efd6d7c75ecbae32214acb6cda41d12   \n",
              "1  60bb28c10a720d557b128262         1.0  79482a8fa3bd0eef3d626f1c862042e8   \n",
              "2  627151230a724d730825106a         0.0  b26669cf4ce90cc9d7d3b0ab588cb04b   \n",
              "3  627151230a724d730825106a         1.0  b4fafd04d8274a1e95b97155edaade2f   \n",
              "4  627151230a724d730825106a         2.0  39694b0880b511e8a12bfb76cf2c20f3   \n",
              "\n",
              "                DESCRIPTION       BARCODE BRAND_CODE  QUANTITY_PURCHASED  \\\n",
              "0              RLGULAR SALE           NaN        NaN                 1.0   \n",
              "1         82 GOURMET HOUSEW  000240292012        NaN                 1.0   \n",
              "2  GOLDILOCKS NOPIA R BLAGK           NaN        NaN                 1.0   \n",
              "3    KURI-IRI DORAYAKI CAKE           NaN        NaN                 1.0   \n",
              "4         YIZMANG FISH BALL           NaN        NaN                 1.0   \n",
              "\n",
              "   TOTAL_FINAL_PRICE  POINTS_EARNED REWARDS_GROUP ORIGINAL_RECEIPT_ITEM_TEXT  \\\n",
              "0               9.99            NaN           NaN               RLGULAR SALE   \n",
              "1               4.99            NaN           NaN          82 GOURMET HOUSEW   \n",
              "2               4.75            NaN           NaN   GOLDILOCKS NOPIA R BLAGK   \n",
              "3               5.99            NaN           NaN     KURI-IRI DORAYAKI CAKE   \n",
              "4              12.00            NaN           NaN          YIZMANG FISH BALL   \n",
              "\n",
              "                MODIFY_DATE  \n",
              "0   2021-06-05T07:33:36.91Z  \n",
              "1   2021-06-05T07:33:36.91Z  \n",
              "2  2022-05-03T15:58:41.769Z  \n",
              "3  2022-05-03T15:58:41.769Z  \n",
              "4  2022-05-03T15:58:41.769Z  "
            ]
          },
          "execution_count": 10,
          "metadata": {},
          "output_type": "execute_result"
        }
      ],
      "source": [
        "receipt_items.head()"
      ]
    },
    {
      "cell_type": "code",
      "execution_count": 11,
      "id": "z5qB0odKrZ25",
      "metadata": {
        "id": "z5qB0odKrZ25"
      },
      "outputs": [],
      "source": [
        "# fill zero in \"POINTS_EARNED\" as we found that there's no zero value in \"POINTS_EARNED\", so we inferred NaN is 0 actually\n",
        "receipt_items[\"POINTS_EARNED\"] = receipt_items[\"POINTS_EARNED\"].fillna(0)"
      ]
    },
    {
      "cell_type": "code",
      "execution_count": 12,
      "id": "mHkcePQwYDGC",
      "metadata": {
        "id": "mHkcePQwYDGC"
      },
      "outputs": [],
      "source": [
        "# generate rewards table and item table\n",
        "rewards = receipt_items[[\"REWARDS_RECEIPT_ID\", \"REWARDS_RECEIPT_ITEM_ID\", \"DESCRIPTION\", \"BARCODE\", \"QUANTITY_PURCHASED\", \"TOTAL_FINAL_PRICE\", \"POINTS_EARNED\", \"REWARDS_GROUP\", \"ORIGINAL_RECEIPT_ITEM_TEXT\", \"MODIFY_DATE\"]]\n",
        "items = receipt_items[[\"REWARDS_RECEIPT_ITEM_ID\", \"ITEM_INDEX\", \"BRAND_CODE\"]]"
      ]
    },
    {
      "cell_type": "code",
      "execution_count": 13,
      "id": "q1OHSEnqd276",
      "metadata": {
        "colab": {
          "base_uri": "https://localhost:8080/"
        },
        "id": "q1OHSEnqd276",
        "outputId": "328c4329-8b70-497b-ceeb-34ec1caf7bdc"
      },
      "outputs": [
        {
          "data": {
            "text/plain": [
              "False"
            ]
          },
          "execution_count": 13,
          "metadata": {},
          "output_type": "execute_result"
        }
      ],
      "source": [
        "# check if their is duplicate reward records (the rows have the same receipt id and item id)\n",
        "rewards.duplicated([\"REWARDS_RECEIPT_ID\", \"REWARDS_RECEIPT_ITEM_ID\"]).any()"
      ]
    },
    {
      "cell_type": "code",
      "execution_count": 14,
      "id": "IWb0hfcjYDI5",
      "metadata": {
        "colab": {
          "base_uri": "https://localhost:8080/"
        },
        "id": "IWb0hfcjYDI5",
        "outputId": "006d31fa-2719-467e-ae6e-35a482c1bb90"
      },
      "outputs": [
        {
          "data": {
            "text/plain": [
              "False"
            ]
          },
          "execution_count": 14,
          "metadata": {},
          "output_type": "execute_result"
        }
      ],
      "source": [
        "# check if their is duplicate item records (the rows have the same item id)\n",
        "items.duplicated([\"REWARDS_RECEIPT_ITEM_ID\"]).any()"
      ]
    },
    {
      "cell_type": "markdown",
      "id": "q8KBeKeYDm8q",
      "metadata": {
        "id": "q8KBeKeYDm8q"
      },
      "source": [
        "### Users Preparation"
      ]
    },
    {
      "cell_type": "code",
      "execution_count": 15,
      "id": "LSQBUWl4-nki",
      "metadata": {
        "id": "LSQBUWl4-nki"
      },
      "outputs": [],
      "source": [
        "users = pd.read_csv(\"users.csv\")"
      ]
    },
    {
      "cell_type": "markdown",
      "id": "ksBW-sx91k7v",
      "metadata": {
        "id": "ksBW-sx91k7v"
      },
      "source": [
        "### Missing value\n"
      ]
    },
    {
      "cell_type": "code",
      "execution_count": 16,
      "id": "H6Js6DKymSbB",
      "metadata": {
        "id": "H6Js6DKymSbB"
      },
      "outputs": [],
      "source": [
        "def calc_missing(df):\n",
        "  null_count = df.isnull().sum().sort_values(ascending=True)\n",
        "  null_percent = round(null_count/len(df) * 100, 2)\n",
        "  return null_percent\n",
        "\n",
        "def plot_missing(df, cutoff):\n",
        "    missing = calc_missing(df)\n",
        "    plt.figure(figsize = (6, 6))\n",
        "    missing.plot(kind='barh')\n",
        "    plt.xlabel(\"Null Percentage\")\n",
        "    plt.ylabel(\"Features\")\n",
        "    plt.title(\"Missing Precentage\")\n",
        "    plt.axvline(x = cutoff, color = \"red\")\n",
        "    plt.show()"
      ]
    },
    {
      "cell_type": "code",
      "execution_count": 17,
      "id": "og3zEjzTmeYI",
      "metadata": {
        "colab": {
          "base_uri": "https://localhost:8080/",
          "height": 1000
        },
        "id": "og3zEjzTmeYI",
        "outputId": "e7eb1b20-b1e7-488e-ee79-6e065fba5698"
      },
      "outputs": [
        {
          "data": {
            "image/png": "[encoded data removed]",
            "text/plain": [
              "<Figure size 432x432 with 1 Axes>"
            ]
          },
          "metadata": {
            "needs_background": "light"
          },
          "output_type": "display_data"
        },
        {
          "data": {
            "image/png": "[encoded data removed]",
            "text/plain": [
              "<Figure size 432x432 with 1 Axes>"
            ]
          },
          "metadata": {
            "needs_background": "light"
          },
          "output_type": "display_data"
        },
        {
          "data": {
            "image/png": "[encoded data removed]",
            "text/plain": [
              "<Figure size 432x432 with 1 Axes>"
            ]
          },
          "metadata": {
            "needs_background": "light"
          },
          "output_type": "display_data"
        },
        {
          "data": {
            "image/png": "[encoded data removed]",
            "text/plain": [
              "<Figure size 432x432 with 1 Axes>"
            ]
          },
          "metadata": {
            "needs_background": "light"
          },
          "output_type": "display_data"
        },
        {
          "data": {
            "image/png": "[encoded data removed]",
            "text/plain": [
              "<Figure size 432x432 with 1 Axes>"
            ]
          },
          "metadata": {
            "needs_background": "light"
          },
          "output_type": "display_data"
        }
      ],
      "source": [
        "# check the missing precentage\n",
        "for df in [brands, receipts, items, rewards, users]:\n",
        "    plot_missing(df, 75)"
      ]
    },
    {
      "cell_type": "code",
      "execution_count": 18,
      "id": "GtncS0ba1oMC",
      "metadata": {
        "colab": {
          "base_uri": "https://localhost:8080/"
        },
        "id": "GtncS0ba1oMC",
        "outputId": "9304c802-1faf-4240-adbc-94f2113d5f51"
      },
      "outputs": [
        {
          "data": {
            "text/plain": [
              "array([nan, True], dtype=object)"
            ]
          },
          "execution_count": 18,
          "metadata": {},
          "output_type": "execute_result"
        }
      ],
      "source": [
        "receipts['DELETED'].unique()"
      ]
    },
    {
      "cell_type": "markdown",
      "id": "gu4Rfp3Gu6qK",
      "metadata": {
        "id": "gu4Rfp3Gu6qK"
      },
      "source": [
        "Most high-missing precentage features are datetime features. We could take more logical inspection on these datetime features to fill the missing data.\n",
        "\n",
        "We could see there are only two values, NaN and True, on \"DELETED\" column. We can infer that the undeleted rows were labelled NaN."
      ]
    },
    {
      "cell_type": "code",
      "execution_count": 19,
      "id": "PAAXRxJx2S95",
      "metadata": {
        "colab": {
          "base_uri": "https://localhost:8080/"
        },
        "id": "PAAXRxJx2S95",
        "outputId": "da60251b-a25b-4ea6-a637-c7d28043c4f0"
      },
      "outputs": [
        {
          "data": {
            "text/plain": [
              "array([0.0000e+00, 3.5000e+01, 3.9900e+01, 9.9900e+01, 2.2900e+01,\n",
              "       1.3200e+01, 1.2480e+02, 1.0500e+02, 2.5900e+01, 1.6700e+01,\n",
              "       5.9400e+01, 5.4800e+01, 3.7200e+01, 2.0000e+01, 3.3300e+01,\n",
              "       6.4800e+01, 4.4900e+01, 1.4900e+01, 1.1900e+01, 5.9900e+01,\n",
              "       2.1900e+01, 4.6900e+01, 1.8400e+01, 8.4800e+01, 2.5200e+01,\n",
              "       5.9800e+01, 3.9800e+01, 1.4490e+02, 6.3700e+01, 2.1000e+02,\n",
              "       3.2700e+01, 9.9000e+00, 6.1000e+00, 2.3100e+01, 1.3100e+01,\n",
              "       4.9900e+01, 1.9900e+01, 1.5900e+01, 3.3900e+01, 1.2600e+01,\n",
              "       3.3800e+01, 4.2800e+01, 2.2300e+01, 5.9700e+01, 5.9500e+01,\n",
              "       1.3000e+01, 2.7000e+01, 4.0000e+01, 1.6000e+01, 1.2500e+02,\n",
              "       2.9000e+01, 3.4000e+01, 5.0000e+01, 7.0000e+01, 1.2000e+02,\n",
              "       5.0000e+00, 3.9600e+01, 2.1800e+01, 9.9800e+01, 1.5000e+01,\n",
              "       4.0800e+01, 4.8800e+01, 4.2900e+01, 3.0000e+01, 4.8000e+01,\n",
              "       3.4900e+01, 4.7700e+01, 4.2200e+01, 2.9900e+01, 1.3980e+02,\n",
              "       1.1970e+02, 1.0470e+02, 7.4900e+01, 4.3300e+01, 6.4900e+01,\n",
              "       1.9800e+01, 3.6900e+01, 6.3900e+01, 1.0000e+01, 5.7500e+01,\n",
              "       4.9000e+00, 4.5800e+01, 2.9800e+01, 5.3700e+01, 1.6380e+02,\n",
              "       2.4900e+01, 1.1690e+02, 2.7900e+01, 2.2500e+01, 2.8780e+02,\n",
              "       1.7990e+02, 2.8000e+01, 2.5400e+01, 1.2990e+02, 1.2800e+01,\n",
              "       1.7500e+01, 5.1500e+01, 1.7800e+01, 4.3800e+01, 1.3680e+02,\n",
              "       1.1480e+02, 1.3960e+02, 2.6800e+01, 1.0400e+01, 1.4200e+01,\n",
              "       1.2500e+01, 4.5000e+01, 1.8000e+02, 1.3300e+01, 1.9400e+01,\n",
              "       1.3400e+01, 6.0000e+01, 3.7600e+01, 3.2800e+01, 6.9800e+01,\n",
              "       2.3800e+01, 4.1600e+01, 2.5000e+01, 9.8800e+01, 1.4980e+02,\n",
              "       3.4800e+01, 4.7800e+01, 4.9700e+01, 1.5480e+02, 1.8990e+02,\n",
              "       7.9800e+01, 4.1900e+01, 7.4000e+00, 7.2000e+00, 3.9400e+01,\n",
              "       1.9700e+01, 3.7800e+01, 4.7900e+01, 2.1500e+01, 2.0000e-01,\n",
              "       3.3000e+01, 1.3000e+02, 3.6700e+01, 3.6600e+01, 3.8000e+01,\n",
              "       4.6000e+01, 4.3600e+01, 8.0000e+00, 3.7400e+01, 7.8700e+01,\n",
              "       3.6400e+01, 4.8400e+01, 6.6600e+01, 7.9900e+01, 6.7000e+01,\n",
              "       6.1900e+01, 1.4990e+02, 1.4590e+02, 1.9770e+02, 1.3990e+02,\n",
              "       5.5000e+01, 7.8000e+00, 5.1900e+01, 2.1540e+02, 4.9800e+01,\n",
              "       4.7000e+01, 7.7900e+01, 1.8500e+02, 1.0700e+02, 2.0000e+02,\n",
              "       2.9500e+01, 1.8900e+01, 2.5700e+01, 5.7800e+01, 8.8000e+00,\n",
              "       8.4900e+01, 1.0490e+02, 2.4990e+02, 1.8800e+01, 3.8500e+01,\n",
              "       9.9500e+01, 2.1990e+02, 1.6600e+01, 2.3900e+01, 3.0480e+02,\n",
              "       1.9990e+02, 1.1490e+02, 1.6900e+01, 2.3000e+01, 1.6000e+02,\n",
              "       2.6000e+01, 9.2000e+01, 1.7000e+02, 9.0000e+01, 1.2000e+01,\n",
              "       1.5490e+02, 5.4900e+01, 6.9900e+01, 8.0000e+01, 7.5900e+01,\n",
              "       7.5000e+01, 3.1200e+01, 4.6400e+01, 2.3990e+02, 2.6900e+01,\n",
              "       5.7900e+01, 8.5800e+01, 1.1400e+01, 2.4200e+01, 3.8900e+01,\n",
              "       2.2800e+01, 3.6800e+01, 1.6990e+02, 3.3500e+01, 1.2220e+02,\n",
              "       2.7500e+01, 4.1500e+01, 3.5985e+03, 3.4300e+01, 1.9500e+01,\n",
              "       6.5000e+01, 2.9000e+00, 1.8700e+01, 8.9000e+01, 1.1990e+02,\n",
              "       1.7700e+01, 1.8390e+02, 1.1000e+01, 1.2560e+02, 1.1800e+01,\n",
              "       2.0900e+01, 1.2790e+02, 1.6500e+03, 1.5770e+02, 3.7000e+01,\n",
              "       5.2900e+01, 4.4400e+01, 2.2200e+01, 7.9200e+01, 5.8200e+01,\n",
              "       6.1800e+01, 3.7900e+01, 1.7600e+01, 1.4600e+01, 3.8800e+01,\n",
              "       8.9800e+01, 1.4840e+02, 9.9700e+01, 3.2000e+01, 5.7000e+01,\n",
              "       1.0590e+02, 2.4800e+01, 6.6400e+01, 3.3400e+01, 4.9200e+01,\n",
              "       6.2500e+01, 2.8900e+01, 4.5900e+01, 1.8490e+02, 2.0980e+02,\n",
              "       1.5320e+02, 4.8900e+01, 5.2000e+01, 4.3500e+01, 1.4000e+02,\n",
              "       6.2000e+01, 1.7000e+01, 1.7960e+02, 3.2500e+01, 5.1800e+01,\n",
              "       1.0690e+02, 6.6900e+01, 3.2900e+01, 1.2280e+02, 2.1200e+01,\n",
              "       5.9960e+02, 8.1900e+01, 1.1200e+01, 5.5800e+01, 1.3800e+01,\n",
              "       6.9700e+01, 3.3200e+01, 1.7900e+01, 4.0900e+01, 1.7400e+01,\n",
              "       3.6000e+01, 3.1400e+01, 2.0990e+02, 4.4800e+01, 3.5200e+01,\n",
              "       7.6000e+01, 1.2700e+02, 4.3000e+01, 3.9700e+01, 6.5300e+01,\n",
              "       1.2780e+02, 7.2900e+01, 2.7800e+01, 5.4000e+01, 3.5900e+01,\n",
              "       1.0990e+02, 9.4900e+01, 4.7400e+01, 8.9900e+01, 3.5000e+00,\n",
              "       5.5900e+01, 4.4700e+01, 2.2400e+01, 2.8000e+00, 3.1660e+02,\n",
              "       6.3600e+01, 2.5100e+01, 6.2800e+01, 6.5900e+01, 1.3900e+01,\n",
              "       5.2500e+01, 8.8800e+01, 6.0000e+00, 5.7000e+00, 1.6000e+00,\n",
              "       2.5000e+00, 3.3000e+00, 7.1200e+01, 5.6900e+01, 4.4000e+01,\n",
              "       4.9000e+01, 1.3700e+02, 6.9000e+01, 4.6300e+01, 4.2600e+01,\n",
              "       3.2400e+01, 5.2400e+01, 1.5800e+01, 4.2400e+01, 1.6500e+01,\n",
              "       1.7500e+02, 1.8000e+01, 9.1200e+01, 2.8600e+01, 1.9600e+01,\n",
              "       5.9000e+00, 3.2600e+01, 1.8200e+01, 5.9200e+01, 2.3700e+01,\n",
              "       8.4600e+01, 1.0000e+00, 3.5800e+01, 1.5990e+02, 8.9000e+00,\n",
              "       7.1500e+01, 3.1700e+01, 1.4200e+02, 4.1200e+01, 9.8000e+00,\n",
              "       7.4800e+01, 8.7900e+01, 8.5900e+01, 1.8970e+02, 1.5420e+02,\n",
              "       9.8400e+01, 1.5000e+02, 2.0800e+01, 2.1490e+02, 1.1920e+02,\n",
              "       8.2400e+01, 3.2000e+02, 8.1400e+01, 2.9700e+01, 1.0790e+02,\n",
              "       1.3340e+02, 9.7000e+00, 5.6000e+01, 1.0300e+02, 6.7800e+01,\n",
              "       4.2500e+01, 7.2500e+01, 1.0980e+02, 1.8740e+02, 7.5600e+01,\n",
              "       1.6100e+02, 6.3000e+01, 4.7800e+02, 1.6800e+01, 4.2700e+01,\n",
              "       1.2700e+01, 4.4000e+00, 1.0580e+02, 6.4700e+01, 3.7500e+01,\n",
              "       1.1280e+02, 5.9000e+01, 1.4160e+02, 3.5400e+01, 2.3600e+01,\n",
              "       6.2400e+01, 1.6240e+02, 9.1980e+02, 1.0100e+01, 1.0430e+02,\n",
              "       9.9200e+01, 4.4200e+01, 5.3900e+01, 2.6990e+02, 5.8500e+01,\n",
              "       1.3920e+02, 3.4700e+01, 8.2900e+01, 4.5300e+01, 1.2970e+02,\n",
              "       2.8800e+01, 1.6980e+02, 9.9600e+01, 5.4700e+01, 3.3980e+02,\n",
              "       3.1800e+01, 5.8000e+00, 7.0900e+02, 2.2000e+01, 1.3490e+02,\n",
              "       6.2900e+01, 4.2000e+01, 3.9000e+01, 6.3400e+01, 3.4600e+01,\n",
              "       4.2100e+01, 9.1000e+00, 6.3500e+01, 2.4500e+01, 5.6800e+01,\n",
              "       6.8000e+00, 4.6500e+01, 9.7800e+01, 5.0900e+01, 5.3800e+01,\n",
              "       3.6300e+01, 7.6400e+01, 1.0100e+02, 1.4000e+01, 9.7500e+01,\n",
              "       2.0300e+01, 2.9600e+01, 9.4000e+00, 1.8500e+01, 3.9500e+01,\n",
              "       2.4950e+02, 5.7400e+01, 8.6600e+01, 4.3900e+01, 1.2490e+02,\n",
              "       1.5980e+02, 1.3790e+02, 1.4280e+02, 1.3260e+02, 2.3940e+02,\n",
              "       8.9400e+01, 7.1900e+01, 6.8900e+01, 1.5992e+03, 2.1380e+02,\n",
              "       1.0000e+02, 7.7400e+01, 1.9300e+01, 2.8700e+01, 1.0290e+02,\n",
              "       6.3000e+00, 1.9980e+02, 8.6200e+01, 5.7600e+01, 1.1000e+02,\n",
              "       5.8900e+01, 4.1000e+01, 1.2400e+01, 2.9400e+01, 9.8000e+01,\n",
              "       1.1890e+02, 1.2400e+02, 1.6900e+02, 6.6000e+01, 5.3000e+01,\n",
              "       7.6000e+00, 2.2600e+01, 2.6100e+01, 1.0200e+01, 6.5800e+01,\n",
              "       1.5600e+01, 8.5000e+01, 1.2390e+02, 1.1470e+02, 6.8800e+01,\n",
              "       3.1900e+01, 7.1600e+01, 2.1700e+01, 7.3000e+01, 7.2200e+01,\n",
              "       5.1100e+01, 2.4000e+02, 2.5980e+02, 1.4800e+01, 2.3400e+02,\n",
              "       4.6200e+01, 3.2300e+01, 9.9400e+01, 2.7200e+01, 1.4640e+02,\n",
              "       8.7000e+00, 2.2500e+02, 5.5000e+00, 6.6500e+01, 1.9000e+01,\n",
              "       4.7200e+01, 6.6200e+01, 9.1000e+01, 8.5000e+00, 3.8300e+01,\n",
              "       4.9950e+02, 7.6700e+01, 2.2980e+02, 9.5800e+01, 1.2840e+02,\n",
              "       6.7900e+01, 1.8600e+01, 3.8700e+01, 2.4600e+01, 4.1400e+01,\n",
              "       5.1000e+01, 7.9700e+01, 2.1000e+01, 5.6500e+01, 3.9990e+02,\n",
              "       4.6800e+01, 1.4950e+02, 1.1340e+02, 8.1000e+00, 8.3900e+01,\n",
              "       2.6700e+01, 1.6690e+02, 1.2890e+02, 1.5840e+02, 3.5700e+01,\n",
              "       3.3600e+01, 1.3500e+02, 7.7500e+01, 1.6400e+01, 7.5000e+00,\n",
              "       7.0000e+00, 2.6000e+02, 2.3400e+01, 5.6400e+01, 3.4788e+03,\n",
              "       1.5200e+01, 2.5000e+02, 6.9600e+01, 1.8480e+02, 1.3500e+01,\n",
              "       1.1600e+01, 8.4700e+01, 2.4100e+01, 8.4000e+00, 1.2900e+01,\n",
              "       8.9700e+01, 1.2200e+02, 8.3000e+00, 4.5500e+01, 1.2980e+02,\n",
              "       5.2300e+01, 1.7300e+01, 7.2700e+01, 2.0600e+01, 2.0700e+01,\n",
              "       3.4000e+02, 2.4490e+02, 1.1192e+03, 2.2490e+02, 1.9490e+02,\n",
              "       1.4970e+02, 6.6100e+01, 6.5000e+00, 2.8500e+01, 9.7900e+01,\n",
              "       5.3500e+01, 5.2800e+01, 3.0900e+01, 9.5700e+01, 6.3800e+01,\n",
              "       2.7980e+02, 6.9000e+00, 1.9480e+02, 4.1800e+01, 2.3500e+01,\n",
              "       3.7300e+01, 1.5590e+02, 1.7000e+00, 3.4800e+02, 1.7100e+01,\n",
              "       2.9980e+02, 1.4940e+02, 3.8200e+01, 4.3200e+01, 6.9400e+01,\n",
              "       4.5700e+01, 2.0100e+01, 9.5900e+01, 1.1580e+02, 1.2960e+02,\n",
              "       4.0700e+01, 6.5600e+01, 1.6790e+02, 3.9000e+00, 2.2000e+00,\n",
              "       3.4500e+01, 8.6900e+01, 2.0000e+00, 5.8000e+01, 1.1190e+02,\n",
              "       7.2400e+01, 2.0400e+01, 1.7480e+02, 1.4300e+01, 4.0500e+01,\n",
              "       7.9600e+01, 9.0000e+00, 8.0900e+01, 1.3600e+01, 4.9400e+01,\n",
              "       7.9000e+00, 3.1000e+01, 4.5380e+02, 4.9600e+01, 1.4220e+02,\n",
              "       9.4800e+01, 3.9200e+01, 1.1090e+02, 4.4600e+01, 1.1700e+02,\n",
              "       9.8700e+01, 2.7400e+01, 5.7700e+01, 1.5190e+02, 1.4400e+01,\n",
              "       1.4700e+01, 2.1370e+02, 2.4000e+01, 1.5970e+02, 2.1600e+01,\n",
              "       5.8400e+01, 3.0760e+02, 6.0400e+01, 4.3980e+02, 9.3000e+01,\n",
              "       3.1300e+01, 2.2990e+02, 9.6900e+01, 7.5800e+01, 1.2290e+02,\n",
              "       2.8300e+01, 3.2100e+01, 5.6200e+01, 8.3800e+01, 2.5260e+02,\n",
              "       1.3390e+02, 8.3000e+01, 9.2700e+01, 2.6420e+02, 3.4200e+01,\n",
              "       2.3100e+02, 7.0900e+01, 1.6480e+02, 5.6700e+01, 1.2690e+02,\n",
              "       4.4500e+01, 5.5900e+02, 3.5500e+01, 3.6500e+01, 9.0600e+01,\n",
              "       1.0600e+01, 5.6600e+01, 1.4790e+02, 1.3800e+02, 2.4980e+02,\n",
              "       1.5500e+01, 1.9200e+01, 1.0970e+02, 1.8980e+02, 9.6200e+01,\n",
              "       2.9100e+01, 4.5600e+01, 1.4480e+02, 1.0180e+02, 7.9000e+01,\n",
              "       5.4400e+01, 6.4600e+01, 9.8900e+01, 6.2300e+01, 7.3500e+01,\n",
              "       1.1700e+01, 2.6200e+01, 5.8000e+02, 4.7500e+01, 5.4500e+01,\n",
              "       6.6700e+01, 1.0720e+02, 8.2500e+01, 4.1100e+01, 2.5990e+02,\n",
              "       3.0000e+00, 1.1420e+02, 5.1300e+01, 3.5600e+01, 7.7450e+02,\n",
              "       7.6900e+01, 1.1290e+02, 7.1000e+01, 1.5400e+01, 6.9200e+01,\n",
              "       1.1100e+01, 3.6980e+02, 1.4994e+03, 6.6000e+00, 4.8590e+02,\n",
              "       7.8000e+01, 1.1260e+02, 9.5000e+00, 3.3700e+01, 1.3420e+02,\n",
              "       4.8100e+01, 3.4400e+01, 8.5300e+01, 7.7700e+01, 1.5500e+02,\n",
              "       9.5000e+01, 7.1000e+00, 6.8600e+01, 3.0100e+01, 2.7700e+01,\n",
              "       2.8880e+02, 8.2000e+01, 8.7800e+01, 1.2200e+01, 1.2680e+02,\n",
              "       3.0600e+01, 1.3890e+02, 9.2400e+01, 7.8900e+01, 1.0700e+01,\n",
              "       1.0500e+01, 2.7100e+01, 8.8900e+01, 1.1500e+02, 1.0280e+02,\n",
              "       1.2530e+02, 1.1980e+02, 4.3400e+01, 7.3800e+01, 9.6400e+01,\n",
              "       1.3320e+02, 1.3600e+02, 1.7800e+02, 2.5500e+01, 3.9100e+01,\n",
              "       4.8600e+01, 7.2800e+01, 6.2000e+00, 1.0760e+02, 1.8100e+02,\n",
              "       6.0900e+01, 3.6200e+01, 7.3000e+00, 6.4000e+01, 1.1300e+02,\n",
              "       2.6500e+01, 8.7200e+01, 1.7440e+02, 4.8000e+00, 4.8500e+01,\n",
              "       1.0950e+02, 1.8950e+02, 1.9100e+01, 1.3850e+02, 2.6400e+01,\n",
              "       3.1740e+02, 1.9690e+02, 3.7700e+01, 6.1500e+01, 6.8000e+01,\n",
              "       5.2490e+02, 5.2700e+01, 2.0480e+02, 4.6990e+02, 4.3700e+01,\n",
              "       3.9300e+01, 1.3700e+01, 6.4000e+00, 3.0000e+02, 1.6950e+02,\n",
              "       1.1640e+02, 4.3950e+02, 7.7000e+01, 5.3400e+01, 3.8990e+02,\n",
              "       2.1970e+02, 1.0940e+02, 1.0000e-01, 9.5960e+02, 6.9500e+01,\n",
              "       7.6800e+01, 1.4880e+02, 1.4500e+01, 1.9000e+02, 1.7490e+02,\n",
              "       5.9600e+01, 4.5980e+02, 1.0340e+02, 2.5600e+01, 1.2750e+02,\n",
              "       1.2720e+02, 1.0780e+02, 6.5500e+01, 4.9100e+01, 9.5400e+01,\n",
              "       3.8400e+01, 5.4600e+01, 1.1720e+02, 1.6700e+02, 1.4700e+02,\n",
              "       2.3300e+01, 2.0200e+01, 1.3090e+02, 2.4700e+01, 2.6970e+02,\n",
              "       2.6960e+02, 6.7100e+01, 8.8400e+01, 1.7790e+02, 4.7600e+01,\n",
              "       3.8600e+01, 1.6490e+02, 2.4400e+01, 1.9470e+02, 2.5800e+01,\n",
              "       8.4400e+01, 5.5500e+01, 1.0850e+02, 1.5160e+02, 7.1970e+02,\n",
              "       1.1240e+02, 8.6000e+01, 7.2000e+01, 4.0600e+01, 1.7980e+02,\n",
              "       3.1980e+02, 7.3600e+01, 5.4200e+01, 5.5200e+01, 1.0800e+01,\n",
              "       3.4100e+01, 1.0450e+02, 1.3970e+02, 1.1390e+02, 5.1400e+01,\n",
              "       1.4460e+02])"
            ]
          },
          "execution_count": 19,
          "metadata": {},
          "output_type": "execute_result"
        }
      ],
      "source": [
        "receipt_items['POINTS_EARNED'].unique()"
      ]
    },
    {
      "cell_type": "markdown",
      "id": "-kxKw69_rbFS",
      "metadata": {
        "id": "-kxKw69_rbFS"
      },
      "source": [
        "We can say no zero value in the \"POINTS_EARNED\" column. And we infer that the actual nan value is 0."
      ]
    },
    {
      "cell_type": "code",
      "execution_count": 20,
      "id": "0x7kdzT9AM5-",
      "metadata": {
        "colab": {
          "base_uri": "https://localhost:8080/",
          "height": 300
        },
        "id": "0x7kdzT9AM5-",
        "outputId": "7f929b90-30a9-4902-eda8-006212679e7f"
      },
      "outputs": [
        {
          "data": {
            "text/html": [
              "\n",
              "  <div id=\"df-aa2bd75b-72e7-44a4-8c89-b28af1a93a1b\">\n",
              "    <div class=\"colab-df-container\">\n",
              "      <div>\n",
              "<style scoped>\n",
              "    .dataframe tbody tr th:only-of-type {\n",
              "        vertical-align: middle;\n",
              "    }\n",
              "\n",
              "    .dataframe tbody tr th {\n",
              "        vertical-align: top;\n",
              "    }\n",
              "\n",
              "    .dataframe thead th {\n",
              "        text-align: right;\n",
              "    }\n",
              "</style>\n",
              "<table border=\"1\" class=\"dataframe\">\n",
              "  <thead>\n",
              "    <tr style=\"text-align: right;\">\n",
              "      <th></th>\n",
              "      <th>QUANTITY_PURCHASED</th>\n",
              "      <th>TOTAL_FINAL_PRICE</th>\n",
              "      <th>POINTS_EARNED</th>\n",
              "    </tr>\n",
              "  </thead>\n",
              "  <tbody>\n",
              "    <tr>\n",
              "      <th>count</th>\n",
              "      <td>149671.000000</td>\n",
              "      <td>152771.000000</td>\n",
              "      <td>153076.000000</td>\n",
              "    </tr>\n",
              "    <tr>\n",
              "      <th>mean</th>\n",
              "      <td>1.579204</td>\n",
              "      <td>8.821878</td>\n",
              "      <td>2.588532</td>\n",
              "    </tr>\n",
              "    <tr>\n",
              "      <th>std</th>\n",
              "      <td>99.010608</td>\n",
              "      <td>148.359815</td>\n",
              "      <td>22.342632</td>\n",
              "    </tr>\n",
              "    <tr>\n",
              "      <th>min</th>\n",
              "      <td>-1.000000</td>\n",
              "      <td>0.000000</td>\n",
              "      <td>0.000000</td>\n",
              "    </tr>\n",
              "    <tr>\n",
              "      <th>25%</th>\n",
              "      <td>1.000000</td>\n",
              "      <td>1.780000</td>\n",
              "      <td>0.000000</td>\n",
              "    </tr>\n",
              "    <tr>\n",
              "      <th>50%</th>\n",
              "      <td>1.000000</td>\n",
              "      <td>3.500000</td>\n",
              "      <td>0.000000</td>\n",
              "    </tr>\n",
              "    <tr>\n",
              "      <th>75%</th>\n",
              "      <td>1.000000</td>\n",
              "      <td>7.160000</td>\n",
              "      <td>0.000000</td>\n",
              "    </tr>\n",
              "    <tr>\n",
              "      <th>max</th>\n",
              "      <td>36556.000000</td>\n",
              "      <td>31003.840000</td>\n",
              "      <td>3598.500000</td>\n",
              "    </tr>\n",
              "  </tbody>\n",
              "</table>\n",
              "</div>\n",
              "      <button class=\"colab-df-convert\" onclick=\"convertToInteractive('df-aa2bd75b-72e7-44a4-8c89-b28af1a93a1b')\"\n",
              "              title=\"Convert this dataframe to an interactive table.\"\n",
              "              style=\"display:none;\">\n",
              "        \n",
              "  <svg xmlns=\"http://www.w3.org/2000/svg\" height=\"24px\"viewBox=\"0 0 24 24\"\n",
              "       width=\"24px\">\n",
              "    <path d=\"M0 0h24v24H0V0z\" fill=\"none\"/>\n",
              "    <path d=\"M18.56 5.44l.94 2.06.94-2.06 2.06-.94-2.06-.94-.94-2.06-.94 2.06-2.06.94zm-11 1L8.5 8.5l.94-2.06 2.06-.94-2.06-.94L8.5 2.5l-.94 2.06-2.06.94zm10 10l.94 2.06.94-2.06 2.06-.94-2.06-.94-.94-2.06-.94 2.06-2.06.94z\"/><path d=\"M17.41 7.96l-1.37-1.37c-.4-.4-.92-.59-1.43-.59-.52 0-1.04.2-1.43.59L10.3 9.45l-7.72 7.72c-.78.78-.78 2.05 0 2.83L4 21.41c.39.39.9.59 1.41.59.51 0 1.02-.2 1.41-.59l7.78-7.78 2.81-2.81c.8-.78.8-2.07 0-2.86zM5.41 20L4 18.59l7.72-7.72 1.47 1.35L5.41 20z\"/>\n",
              "  </svg>\n",
              "      </button>\n",
              "      \n",
              "  <style>\n",
              "    .colab-df-container {\n",
              "      display:flex;\n",
              "      flex-wrap:wrap;\n",
              "      gap: 12px;\n",
              "    }\n",
              "\n",
              "    .colab-df-convert {\n",
              "      background-color: #E8F0FE;\n",
              "      border: none;\n",
              "      border-radius: 50%;\n",
              "      cursor: pointer;\n",
              "      display: none;\n",
              "      fill: #1967D2;\n",
              "      height: 32px;\n",
              "      padding: 0 0 0 0;\n",
              "      width: 32px;\n",
              "    }\n",
              "\n",
              "    .colab-df-convert:hover {\n",
              "      background-color: #E2EBFA;\n",
              "      box-shadow: 0px 1px 2px rgba(60, 64, 67, 0.3), 0px 1px 3px 1px rgba(60, 64, 67, 0.15);\n",
              "      fill: #174EA6;\n",
              "    }\n",
              "\n",
              "    [theme=dark] .colab-df-convert {\n",
              "      background-color: #3B4455;\n",
              "      fill: #D2E3FC;\n",
              "    }\n",
              "\n",
              "    [theme=dark] .colab-df-convert:hover {\n",
              "      background-color: #434B5C;\n",
              "      box-shadow: 0px 1px 3px 1px rgba(0, 0, 0, 0.15);\n",
              "      filter: drop-shadow(0px 1px 2px rgba(0, 0, 0, 0.3));\n",
              "      fill: #FFFFFF;\n",
              "    }\n",
              "  </style>\n",
              "\n",
              "      <script>\n",
              "        const buttonEl =\n",
              "          document.querySelector('#df-aa2bd75b-72e7-44a4-8c89-b28af1a93a1b button.colab-df-convert');\n",
              "        buttonEl.style.display =\n",
              "          google.colab.kernel.accessAllowed ? 'block' : 'none';\n",
              "\n",
              "        async function convertToInteractive(key) {\n",
              "          const element = document.querySelector('#df-aa2bd75b-72e7-44a4-8c89-b28af1a93a1b');\n",
              "          const dataTable =\n",
              "            await google.colab.kernel.invokeFunction('convertToInteractive',\n",
              "                                                     [key], {});\n",
              "          if (!dataTable) return;\n",
              "\n",
              "          const docLinkHtml = 'Like what you see? Visit the ' +\n",
              "            '<a target=\"_blank\" href=https://colab.research.google.com/notebooks/data_table.ipynb>data table notebook</a>'\n",
              "            + ' to learn more about interactive tables.';\n",
              "          element.innerHTML = '';\n",
              "          dataTable['output_type'] = 'display_data';\n",
              "          await google.colab.output.renderOutput(dataTable, element);\n",
              "          const docLink = document.createElement('div');\n",
              "          docLink.innerHTML = docLinkHtml;\n",
              "          element.appendChild(docLink);\n",
              "        }\n",
              "      </script>\n",
              "    </div>\n",
              "  </div>\n",
              "  "
            ],
            "text/plain": [
              "       QUANTITY_PURCHASED  TOTAL_FINAL_PRICE  POINTS_EARNED\n",
              "count       149671.000000      152771.000000  153076.000000\n",
              "mean             1.579204           8.821878       2.588532\n",
              "std             99.010608         148.359815      22.342632\n",
              "min             -1.000000           0.000000       0.000000\n",
              "25%              1.000000           1.780000       0.000000\n",
              "50%              1.000000           3.500000       0.000000\n",
              "75%              1.000000           7.160000       0.000000\n",
              "max          36556.000000       31003.840000    3598.500000"
            ]
          },
          "execution_count": 20,
          "metadata": {},
          "output_type": "execute_result"
        }
      ],
      "source": [
        "rewards.describe()"
      ]
    },
    {
      "cell_type": "markdown",
      "id": "k9bmCD-EAf4X",
      "metadata": {
        "id": "k9bmCD-EAf4X"
      },
      "source": [
        "We found that there are some negative value in 'QUANTITY_PURCHASED', which is not really reasonable. It can be inferred as a wrong input. "
      ]
    },
    {
      "cell_type": "markdown",
      "id": "I-4-SVDXQ7M1",
      "metadata": {
        "id": "I-4-SVDXQ7M1"
      },
      "source": [
        "### Basic Analysis"
      ]
    },
    {
      "cell_type": "code",
      "execution_count": 21,
      "id": "SN7ruSZS5zWg",
      "metadata": {
        "id": "SN7ruSZS5zWg"
      },
      "outputs": [],
      "source": [
        "def calc_freq(df, col):\n",
        "    frequence = 100*(df[col].value_counts()/len(df[~df[col].isna()]))\n",
        "    # print(frequence)\n",
        "    return frequence\n",
        "\n",
        "def plot_freq(df, col):\n",
        "    frequence = calc_freq(df, col)\n",
        "    plt.figure(figsize = (6, 6))\n",
        "    frequence.plot(kind='barh')\n",
        "    plt.xlabel(\"Percentage\")\n",
        "    plt.ylabel(\"Features\")\n",
        "    plt.title(\"Frequency\")\n",
        "    plt.show()"
      ]
    },
    {
      "cell_type": "code",
      "execution_count": 22,
      "id": "e2e86210",
      "metadata": {
        "colab": {
          "base_uri": "https://localhost:8080/",
          "height": 404
        },
        "id": "e2e86210",
        "outputId": "3ba82eb6-65c9-4665-a835-1fcb0eaaa506"
      },
      "outputs": [
        {
          "data": {
            "image/png": "[encoded data removed]",
            "text/plain": [
              "<Figure size 432x432 with 1 Axes>"
            ]
          },
          "metadata": {
            "needs_background": "light"
          },
          "output_type": "display_data"
        }
      ],
      "source": [
        "plot_freq(brands, \"CATEGORY_CODE\")"
      ]
    },
    {
      "cell_type": "code",
      "execution_count": 23,
      "id": "dV7G_E5oTAbr",
      "metadata": {
        "colab": {
          "base_uri": "https://localhost:8080/",
          "height": 404
        },
        "id": "dV7G_E5oTAbr",
        "outputId": "b6b61111-c33f-45a4-e83a-0aff3f685fdc"
      },
      "outputs": [
        {
          "data": {
            "image/png": "[encoded data removed]",
            "text/plain": [
              "<Figure size 432x432 with 1 Axes>"
            ]
          },
          "metadata": {
            "needs_background": "light"
          },
          "output_type": "display_data"
        }
      ],
      "source": [
        "plot_freq(users, \"SIGN_UP_PLATFORM\")"
      ]
    },
    {
      "cell_type": "code",
      "execution_count": 24,
      "id": "Xhb6h_SqQ-XG",
      "metadata": {
        "colab": {
          "base_uri": "https://localhost:8080/",
          "height": 404
        },
        "id": "Xhb6h_SqQ-XG",
        "outputId": "6297f78e-f05a-4c44-f31b-7ce042f9a6ef"
      },
      "outputs": [
        {
          "data": {
            "image/png": "[encoded data removed]",
            "text/plain": [
              "<Figure size 432x432 with 1 Axes>"
            ]
          },
          "metadata": {
            "needs_background": "light"
          },
          "output_type": "display_data"
        }
      ],
      "source": [
        "plot_freq(users, \"SIGN_UP_SOURCE\")"
      ]
    },
    {
      "cell_type": "code",
      "execution_count": 25,
      "id": "H6BhzsUMS241",
      "metadata": {
        "colab": {
          "base_uri": "https://localhost:8080/",
          "height": 404
        },
        "id": "H6BhzsUMS241",
        "outputId": "08db5243-e409-4ac1-94d7-0d49869eaa84"
      },
      "outputs": [
        {
          "data": {
            "image/png": "[encoded data removed]",
            "text/plain": [
              "<Figure size 432x432 with 1 Axes>"
            ]
          },
          "metadata": {
            "needs_background": "light"
          },
          "output_type": "display_data"
        }
      ],
      "source": [
        "plot_freq(users, \"STATE\")"
      ]
    },
    {
      "cell_type": "markdown",
      "id": "zIHsc1Xn9AG3",
      "metadata": {
        "id": "zIHsc1Xn9AG3"
      },
      "source": [
        "### Distribution"
      ]
    },
    {
      "cell_type": "code",
      "execution_count": 26,
      "id": "YE1XwnD-Cub5",
      "metadata": {
        "colab": {
          "base_uri": "https://localhost:8080/",
          "height": 332
        },
        "id": "YE1XwnD-Cub5",
        "outputId": "c1da0801-8d7d-49c4-a397-b66826832a24"
      },
      "outputs": [
        {
          "name": "stderr",
          "output_type": "stream",
          "text": [
            "/usr/local/lib/python3.8/dist-packages/seaborn/_decorators.py:36: FutureWarning: Pass the following variable as a keyword arg: x. From version 0.12, the only valid positional argument will be `data`, and passing other arguments without an explicit keyword will result in an error or misinterpretation.\n",
            "  warnings.warn(\n"
          ]
        },
        {
          "data": {
            "text/plain": [
              "<AxesSubplot:xlabel='TOTAL_FINAL_PRICE'>"
            ]
          },
          "execution_count": 26,
          "metadata": {},
          "output_type": "execute_result"
        },
        {
          "data": {
            "image/png": "[encoded data removed]",
            "text/plain": [
              "<Figure size 432x288 with 1 Axes>"
            ]
          },
          "metadata": {
            "needs_background": "light"
          },
          "output_type": "display_data"
        }
      ],
      "source": [
        "sns.boxplot(rewards[\"TOTAL_FINAL_PRICE\"])"
      ]
    },
    {
      "cell_type": "code",
      "execution_count": 27,
      "id": "VeTYJZteGC4O",
      "metadata": {
        "colab": {
          "base_uri": "https://localhost:8080/",
          "height": 332
        },
        "id": "VeTYJZteGC4O",
        "outputId": "72a9d116-1bb3-45e7-d596-894cfae5266b"
      },
      "outputs": [
        {
          "name": "stderr",
          "output_type": "stream",
          "text": [
            "/usr/local/lib/python3.8/dist-packages/seaborn/_decorators.py:36: FutureWarning: Pass the following variable as a keyword arg: x. From version 0.12, the only valid positional argument will be `data`, and passing other arguments without an explicit keyword will result in an error or misinterpretation.\n",
            "  warnings.warn(\n"
          ]
        },
        {
          "data": {
            "text/plain": [
              "<AxesSubplot:xlabel='POINTS_EARNED'>"
            ]
          },
          "execution_count": 27,
          "metadata": {},
          "output_type": "execute_result"
        },
        {
          "data": {
            "image/png": "[encoded data removed]",
            "text/plain": [
              "<Figure size 432x288 with 1 Axes>"
            ]
          },
          "metadata": {
            "needs_background": "light"
          },
          "output_type": "display_data"
        }
      ],
      "source": [
        "sns.boxplot(rewards[\"POINTS_EARNED\"])"
      ]
    },
    {
      "cell_type": "markdown",
      "id": "jAEnRUmIGl0b",
      "metadata": {
        "id": "jAEnRUmIGl0b"
      },
      "source": [
        "We can tell that the max value drives the mean and standard deviation extremly much away from without it. It can be a fault. Therefore, we can think about removing max value in the future analysis."
      ]
    },
    {
      "cell_type": "code",
      "execution_count": 28,
      "id": "uX7TBLnc8_nN",
      "metadata": {
        "id": "uX7TBLnc8_nN"
      },
      "outputs": [],
      "source": [
        "def exclude_max_then_outlier(series, sigma):\n",
        "    series = series[series != series.max()]\n",
        "    mean = series.mean()\n",
        "    std = series.std()\n",
        "    max = mean + std*sigma\n",
        "    min = series.min()\n",
        "    series = series.loc[lambda x : (x >= min) & (x < max)]\n",
        "    return series\n",
        "\n",
        "def exclude_outlier(series, sigma):\n",
        "    mean = series.mean()\n",
        "    std = series.std()\n",
        "    max = mean + std*sigma\n",
        "    min = series.min()\n",
        "    series = series.loc[lambda x : (x >= min) & (x < max)]\n",
        "    return series\n",
        "\n",
        "def plot_distribution(df, col, sigma, bins):\n",
        "    series = df[col]\n",
        "    series = exclude_outlier(series, sigma)\n",
        "    series.hist(bins=bins)\n",
        "    plt.title(col+\" distribution\")\n",
        "    plt.gca().grid(False) \n",
        "    plt.show()\n",
        "\n",
        "def plot_distribution_nomax(df, col, sigma, bins):\n",
        "    series = df[col]\n",
        "    series = exclude_max_then_outlier(series, sigma)\n",
        "    series.hist(bins=bins)\n",
        "    plt.title(col+\" distribution\")\n",
        "    plt.gca().grid(False) \n",
        "    plt.show()"
      ]
    },
    {
      "cell_type": "code",
      "execution_count": 29,
      "id": "9Oso16N2D5NG",
      "metadata": {
        "colab": {
          "base_uri": "https://localhost:8080/",
          "height": 281
        },
        "id": "9Oso16N2D5NG",
        "outputId": "ec4fb3a6-9698-45d8-f9db-a950b439d3f7"
      },
      "outputs": [
        {
          "data": {
            "image/png": "[encoded data removed]",
            "text/plain": [
              "<Figure size 432x288 with 1 Axes>"
            ]
          },
          "metadata": {
            "needs_background": "light"
          },
          "output_type": "display_data"
        }
      ],
      "source": [
        "plot_distribution(rewards, \"TOTAL_FINAL_PRICE\", 1.5, 100)"
      ]
    },
    {
      "cell_type": "code",
      "execution_count": 30,
      "id": "e_9YuIoWIHN-",
      "metadata": {
        "colab": {
          "base_uri": "https://localhost:8080/",
          "height": 281
        },
        "id": "e_9YuIoWIHN-",
        "outputId": "e14287af-87ce-45cb-eadf-a4edb4011973"
      },
      "outputs": [
        {
          "data": {
            "image/png": "[encoded data removed]",
            "text/plain": [
              "<Figure size 432x288 with 1 Axes>"
            ]
          },
          "metadata": {
            "needs_background": "light"
          },
          "output_type": "display_data"
        }
      ],
      "source": [
        "plot_distribution_nomax(rewards, \"TOTAL_FINAL_PRICE\", 1.5, 100)"
      ]
    },
    {
      "cell_type": "code",
      "execution_count": 31,
      "id": "jc6O1xyo-L3-",
      "metadata": {
        "colab": {
          "base_uri": "https://localhost:8080/",
          "height": 281
        },
        "id": "jc6O1xyo-L3-",
        "outputId": "af4eaf67-92bc-4c1d-b6e6-293371aea813"
      },
      "outputs": [
        {
          "data": {
            "image/png": "[encoded data removed]",
            "text/plain": [
              "<Figure size 432x288 with 1 Axes>"
            ]
          },
          "metadata": {
            "needs_background": "light"
          },
          "output_type": "display_data"
        }
      ],
      "source": [
        "plot_distribution(rewards, \"POINTS_EARNED\", 1.5, 100)"
      ]
    },
    {
      "cell_type": "code",
      "execution_count": 32,
      "id": "MjRNTVnuILdE",
      "metadata": {
        "colab": {
          "base_uri": "https://localhost:8080/",
          "height": 281
        },
        "id": "MjRNTVnuILdE",
        "outputId": "753c9b2f-95dd-4c23-84f1-aace177ebacd"
      },
      "outputs": [
        {
          "data": {
            "image/png": "[encoded data removed]",
            "text/plain": [
              "<Figure size 432x288 with 1 Axes>"
            ]
          },
          "metadata": {
            "needs_background": "light"
          },
          "output_type": "display_data"
        }
      ],
      "source": [
        "plot_distribution_nomax(rewards, \"POINTS_EARNED\", 1.5, 100)"
      ]
    },
    {
      "cell_type": "markdown",
      "id": "HG8tz2W0KBfc",
      "metadata": {
        "id": "HG8tz2W0KBfc"
      },
      "source": [
        "### Query"
      ]
    },
    {
      "cell_type": "markdown",
      "id": "brk5zUYAKZpr",
      "metadata": {
        "id": "brk5zUYAKZpr"
      },
      "source": [
        "Which brand saw the most dollars spent in the month of June?\n",
        "\n",
        "Which user spent the most money in the month of August?\n",
        "\n",
        "What user bought the most expensive item?\n",
        "\n",
        "What is the name of the most expensive item purchased?\n",
        "\n",
        "How many users scanned in each month?\n"
      ]
    },
    {
      "cell_type": "code",
      "execution_count": 33,
      "id": "dxgUVGo0KBD6",
      "metadata": {
        "colab": {
          "base_uri": "https://localhost:8080/",
          "height": 36
        },
        "id": "dxgUVGo0KBD6",
        "outputId": "e1a879c3-1e34-40a2-b586-1c466dcd7448"
      },
      "outputs": [
        {
          "data": {
            "application/vnd.google.colaboratory.intrinsic+json": {
              "type": "string"
            },
            "text/plain": [
              "'\\nSELECT MONTH(DATE_SCANNED) AS Month, COUNT(DISTINCT USER_ID) AS UsersScanned\\nFROM Receipts\\nGROUP BY MONTH(DATE_SCANNED);\\n'"
            ]
          },
          "execution_count": 33,
          "metadata": {},
          "output_type": "execute_result"
        }
      ],
      "source": [
        "\"\"\"\n",
        "SELECT b.NAME, SUM(r.TOTAL_FINAL_PRICE) as total_spent\n",
        "FROM brands b\n",
        "JOIN items i ON b.BRAND_CODE = i.BRAND_CODE\n",
        "JOIN rewards r ON i.REWARDS_RECEIPT_ITEM_ID = r.REWARDS_RECEIPT_ITEM_ID\n",
        "JOIN receipts re ON r.REWARDS_RECEIPT_ID = re.ID\n",
        "WHERE MONTH(re.PURCHASE_DATE) = 6\n",
        "GROUP BY b.NAME\n",
        "ORDER BY total_spent DESC\n",
        "LIMIT 1;\n",
        "\n",
        "\"\"\"\n",
        "\n",
        "\"\"\"\n",
        "SELECT u.ID, SUM(r.TOTAL_SPENT) as total_spent\n",
        "FROM users u\n",
        "JOIN receipts r ON u.ID = r.USER_ID\n",
        "WHERE MONTH(r.PURCHASE_DATE) = 8\n",
        "GROUP BY u.ID\n",
        "ORDER BY total_spent DESC\n",
        "LIMIT 1;\n",
        "\"\"\"\n",
        "\n",
        "\"\"\"\n",
        "SELECT u.ID, r.TOTAL_FINAL_PRICE\n",
        "FROM users u\n",
        "JOIN receipts re ON u.ID = re.USER_ID\n",
        "JOIN rewards rr ON re.ID = rr.REWARDS_RECEIPT_ID\n",
        "JOIN items i ON rr.REWARDS_RECEIPT_ITEM_ID = i.REWARDS_RECEIPT_ITEM_ID\n",
        "JOIN (SELECT MAX(TOTAL_FINAL_PRICE) AS max_price FROM Rewards) r\n",
        "ON rr.TOTAL_FINAL_PRICE = r.max_price\n",
        "ORDER BY r.TOTAL_FINAL_PRICE DESC\n",
        "LIMIT 1;\n",
        "\"\"\"\n",
        "\n",
        "\"\"\"\n",
        "SELECT ri.DESCRIPTION\n",
        "FROM rewards r\n",
        "JOIN receipt_items ri ON r.REWARDS_RECEIPT_ITEM_ID = ri.REWARDS_RECEIPT_ITEM_ID\n",
        "WHERE r.TOTAL_FINAL_PRICE = (SELECT MAX(TOTAL_FINAL_PRICE) FROM Rewards);\n",
        "\"\"\"\n",
        "\n",
        "\"\"\"\n",
        "SELECT MONTH(DATE_SCANNED) AS Month, COUNT(DISTINCT USER_ID) AS UsersScanned\n",
        "FROM Receipts\n",
        "GROUP BY MONTH(DATE_SCANNED);\n",
        "\"\"\""
      ]
    },
    {
      "cell_type": "code",
      "execution_count": 33,
      "id": "H0y9q_brCv4u",
      "metadata": {
        "id": "H0y9q_brCv4u"
      },
      "outputs": [],
      "source": []
    },
    {
      "cell_type": "markdown",
      "id": "GG2kcY1CoI0v",
      "metadata": {
        "id": "GG2kcY1CoI0v"
      },
      "source": [
        "### Communication with stakeholder"
      ]
    },
    {
      "cell_type": "markdown",
      "id": "PX2LWXFhoPqg",
      "metadata": {
        "id": "PX2LWXFhoPqg"
      },
      "source": [
        "Dear Stakeholders,\n",
        "\n",
        "I am writing to bring to your attention some data quality issues that have been identified in our database. Specifically, we have noticed that there are a high-prcentage missing values in several key fields in the receipts, brands, and rewards tables. In addition, we have identified some extreme values in the rewards table.\n",
        "\n",
        "1. In the receipts table, there are several records where the date and time of purchase are missing. It can be valubale for analyzing purchase patterns over time.\n",
        "\n",
        "2. In the items table, we have identified a number of records where the brand code field is missing. This makes it difficult to link sales data to specific brands, and could impact our ability to make informed decisions about marketing and coopartion with these brands.\n",
        "\n",
        "3. In the rewards table, we have identified extreme values in the points earned and total spent fields. These values appear to be outliers and could have an impact on our ability to accurately analyze the effectiveness of our rewards program.\n",
        "\n",
        "4. Additionally, we have identified records where the rewards group and barcode fields are missing. These fields are critical for analyzing the effectiveness of our rewards program, and the missing data could have an impact on our ability to measure engagement and make informed decisions about program enhancements.\n",
        "\n",
        "If you have any questions or concerns about these data quality issues, please do not hesitate to contact us.\n",
        "\n",
        "Thank you for your attention to this matter.\n",
        "\n",
        "Best regards,\n",
        "\n",
        "Thomas"
      ]
    }
  ],
  "metadata": {
    "colab": {
      "provenance": []
    },
    "kernelspec": {
      "display_name": "Python 3 (ipykernel)",
      "language": "python",
      "name": "python3"
    },
    "language_info": {
      "codemirror_mode": {
        "name": "ipython",
        "version": 3
      },
      "file_extension": ".py",
      "mimetype": "text/x-python",
      "name": "python",
      "nbconvert_exporter": "python",
      "pygments_lexer": "ipython3",
      "version": "3.9.7"
    }
  },
  "nbformat": 4,
  "nbformat_minor": 5
}
